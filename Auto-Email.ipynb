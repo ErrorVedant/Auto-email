{
 "cells": [
  {
   "cell_type": "code",
   "execution_count": null,
   "metadata": {},
   "outputs": [],
   "source": [
    "pip install pandas"
   ]
  },
  {
   "cell_type": "code",
   "execution_count": 12,
   "metadata": {},
   "outputs": [
    {
     "name": "stdout",
     "output_type": "stream",
     "text": [
      "Requirement already satisfied: schedule in c:\\users\\vedan\\appdata\\local\\programs\\python\\python311\\lib\\site-packages (1.2.2)\n",
      "Note: you may need to restart the kernel to use updated packages.\n"
     ]
    }
   ],
   "source": [
    "pip install schedule"
   ]
  },
  {
   "cell_type": "code",
   "execution_count": null,
   "metadata": {},
   "outputs": [
    {
     "name": "stdout",
     "output_type": "stream",
     "text": [
      "Email sent to vedantk065@gmail.com\n",
      "Email sent to sharmaharsheel@gmail.com\n"
     ]
    }
   ],
   "source": [
    "import smtplib\n",
    "import pandas as pd\n",
    "from email.mime.multipart import MIMEMultipart\n",
    "from email.mime.text import MIMEText\n",
    "import schedule\n",
    "import time\n",
    "\n",
    "class EmailScheduler:\n",
    "    def __init__(self, smtp_server, smtp_port, email_address, password):\n",
    "        self.smtp_server = smtp_server\n",
    "        self.smtp_port = smtp_port\n",
    "        self.email_address = email_address\n",
    "        self.password = password\n",
    "\n",
    "        # Email subjects for each email\n",
    "        self.subjects = [\n",
    "            'Initial Email Subject',\n",
    "            'Follow-up Email Subject - 3 Days Later',\n",
    "            'Final Follow-up Email Subject - 5 Days Later'\n",
    "        ]\n",
    "\n",
    "    def send_emails(self, csv_file, email_index):\n",
    "        \"\"\"Sends emails with content based on email_index (0: initial, 1: 3-day follow-up, 2: 5-day follow-up).\"\"\"\n",
    "        contacts = pd.read_csv(csv_file)\n",
    "\n",
    "        # Set up the server with SSL\n",
    "        server = smtplib.SMTP_SSL(self.smtp_server, self.smtp_port)\n",
    "        server.login(self.email_address, self.password)\n",
    "\n",
    "        for index, row in contacts.iterrows():\n",
    "            recipient_email = row['email']\n",
    "            company_name = row['company']\n",
    "\n",
    "            # Email content based on email index\n",
    "            email_content = f\"Dear {company_name} team,\\n\\n\"\n",
    "            if email_index == 0:\n",
    "                email_content += \"We are reaching out to share some important updates...\\n\\nBest regards,\\nYour Company\"\n",
    "            elif email_index == 1:\n",
    "                email_content += \"Just following up on our previous email. We'd love to hear your thoughts...\\n\\nBest regards,\\nYour Company\"\n",
    "            elif email_index == 2:\n",
    "                email_content += \"This is our final follow-up. Please let us know if you have any questions...\\n\\nBest regards,\\nYour Company\"\n",
    "\n",
    "            # Email message setup\n",
    "            message = MIMEMultipart()\n",
    "            message['From'] = f\"ACM DJS <{self.email_address}>\"\n",
    "            message['To'] = recipient_email\n",
    "            message['Subject'] = self.subjects[email_index]\n",
    "            message.attach(MIMEText(email_content, 'plain'))\n",
    "\n",
    "            try:\n",
    "                # Send email\n",
    "                server.sendmail(self.email_address, recipient_email, message.as_string())\n",
    "                print(f\"Email sent to {recipient_email}\")\n",
    "            except Exception as e:\n",
    "                print(f\"Failed to send email to {recipient_email}: {e}\")\n",
    "\n",
    "        # Close the server connection\n",
    "        server.quit()\n",
    "\n",
    "    def schedule_emails(self, csv_file):\n",
    "        \"\"\"Schedules the emails to be sent.\"\"\"\n",
    "        self.send_emails(csv_file, 0)  # Send initial email\n",
    "        schedule.every(3).days.do(self.send_emails, csv_file, 1)  # Schedule 3-day follow-up\n",
    "        schedule.every(5).days.do(self.send_emails, csv_file, 2)  # Schedule 5-day follow-up\n",
    "\n",
    "    def run(self, csv_file):\n",
    "        \"\"\"Runs the scheduling.\"\"\"\n",
    "        self.schedule_emails(csv_file)\n",
    "        while True:\n",
    "            schedule.run_pending()\n",
    "            time.sleep(86400)  # Check daily for scheduled tasks\n",
    "\n",
    "# Example usage:\n",
    "if __name__ == \"__main__\":\n",
    "    # Email account credentials (Hostinger)\n",
    "    SMTP_SERVER = 'smtp.hostinger.com'\n",
    "    SMTP_PORT = 465  # SSL Port for Hostinger\n",
    "    EMAIL_ADDRESS = \"core@djsceacm.com\"  # Only the email address\n",
    "    PASSWORD = \"#ACM@core2024\"\n",
    "\n",
    "    # Create an instance of EmailScheduler\n",
    "    email_scheduler = EmailScheduler(SMTP_SERVER, SMTP_PORT, EMAIL_ADDRESS, PASSWORD)\n",
    "\n",
    "    # Run the email scheduler with the specified CSV file\n",
    "    email_scheduler.run('contacts.csv')\n"
   ]
  }
 ],
 "metadata": {
  "kernelspec": {
   "display_name": "Python 3",
   "language": "python",
   "name": "python3"
  },
  "language_info": {
   "codemirror_mode": {
    "name": "ipython",
    "version": 3
   },
   "file_extension": ".py",
   "mimetype": "text/x-python",
   "name": "python",
   "nbconvert_exporter": "python",
   "pygments_lexer": "ipython3",
   "version": "3.11.5"
  }
 },
 "nbformat": 4,
 "nbformat_minor": 2
}
